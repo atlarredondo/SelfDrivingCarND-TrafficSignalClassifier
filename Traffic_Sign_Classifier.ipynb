{
 "cells": [
  {
   "cell_type": "markdown",
   "metadata": {},
   "source": [
    "# Self-Driving Car Engineer Nanodegree\n",
    "\n",
    "## Deep Learning\n",
    "\n",
    "## Project: Build a Traffic Sign Recognition Classifier\n",
    "\n",
    "In this notebook, a template is provided for you to implement your functionality in stages, which is required to successfully complete this project. If additional code is required that cannot be included in the notebook, be sure that the Python code is successfully imported and included in your submission if necessary. \n",
    "\n",
    "> **Note**: Once you have completed all of the code implementations, you need to finalize your work by exporting the iPython Notebook as an HTML document. Before exporting the notebook to html, all of the code cells need to have been run so that reviewers can see the final implementation and output. You can then export the notebook by using the menu above and navigating to  \\n\",\n",
    "    \"**File -> Download as -> HTML (.html)**. Include the finished document along with this notebook as your submission. \n",
    "\n",
    "In addition to implementing code, there is a writeup to complete. The writeup should be completed in a separate file, which can be either a markdown file or a pdf document. There is a [write up template](https://github.com/udacity/CarND-Traffic-Sign-Classifier-Project/blob/master/writeup_template.md) that can be used to guide the writing process. Completing the code template and writeup template will cover all of the [rubric points](https://review.udacity.com/#!/rubrics/481/view) for this project.\n",
    "\n",
    "The [rubric](https://review.udacity.com/#!/rubrics/481/view) contains \"Stand Out Suggestions\" for enhancing the project beyond the minimum requirements. The stand out suggestions are optional. If you decide to pursue the \"stand out suggestions\", you can include the code in this Ipython notebook and also discuss the results in the writeup file.\n",
    "\n",
    "\n",
    ">**Note:** Code and Markdown cells can be executed using the **Shift + Enter** keyboard shortcut. In addition, Markdown cells can be edited by typically double-clicking the cell to enter edit mode."
   ]
  },
  {
   "cell_type": "markdown",
   "metadata": {},
   "source": [
    "---\n",
    "## Step 0: Load The Data"
   ]
  },
  {
   "cell_type": "code",
   "execution_count": 1,
   "metadata": {},
   "outputs": [],
   "source": [
    "# Load pickled data\n",
    "import pickle\n",
    "\n",
    "training_file = './data/train.p'\n",
    "validation_file= './data/valid.p'\n",
    "testing_file = './data/test.p'\n",
    "\n",
    "with open(training_file, mode='rb') as f:\n",
    "    train = pickle.load(f)\n",
    "with open(validation_file, mode='rb') as f:\n",
    "    valid = pickle.load(f)\n",
    "with open(testing_file, mode='rb') as f:\n",
    "    test = pickle.load(f)\n",
    "    \n",
    "X_train, y_train = train['features'], train['labels']\n",
    "X_valid, y_valid = valid['features'], valid['labels']\n",
    "X_test, y_test = test['features'], test['labels']"
   ]
  },
  {
   "cell_type": "markdown",
   "metadata": {},
   "source": [
    "---\n",
    "\n",
    "## Step 1: Dataset Summary & Exploration\n",
    "\n",
    "The pickled data is a dictionary with 4 key/value pairs:\n",
    "\n",
    "- `'features'` is a 4D array containing raw pixel data of the traffic sign images, (num examples, width, height, channels).\n",
    "- `'labels'` is a 1D array containing the label/class id of the traffic sign. The file `signnames.csv` contains id -> name mappings for each id.\n",
    "- `'sizes'` is a list containing tuples, (width, height) representing the original width and height the image.\n",
    "- `'coords'` is a list containing tuples, (x1, y1, x2, y2) representing coordinates of a bounding box around the sign in the image. **THESE COORDINATES ASSUME THE ORIGINAL IMAGE. THE PICKLED DATA CONTAINS RESIZED VERSIONS (32 by 32) OF THESE IMAGES**\n",
    "\n",
    "Complete the basic data summary below. Use python, numpy and/or pandas methods to calculate the data summary rather than hard coding the results. For example, the [pandas shape method](http://pandas.pydata.org/pandas-docs/stable/generated/pandas.DataFrame.shape.html) might be useful for calculating some of the summary results. "
   ]
  },
  {
   "cell_type": "markdown",
   "metadata": {},
   "source": [
    "### Provide a Basic Summary of the Data Set Using Python, Numpy and/or Pandas"
   ]
  },
  {
   "cell_type": "code",
   "execution_count": 2,
   "metadata": {},
   "outputs": [
    {
     "data": {
      "text/plain": [
       "(34799, 4410, 12630, 42)"
      ]
     },
     "execution_count": 2,
     "metadata": {},
     "output_type": "execute_result"
    }
   ],
   "source": [
    "len(X_train), len(X_valid), len(X_test), max(y_train)"
   ]
  },
  {
   "cell_type": "code",
   "execution_count": 3,
   "metadata": {},
   "outputs": [
    {
     "name": "stdout",
     "output_type": "stream",
     "text": [
      "Number of training examples = 34799\n",
      "Number of testing examples = 12630\n",
      "Image data shape = 32x32x3\n",
      "Number of classes = 43\n"
     ]
    }
   ],
   "source": [
    "### Replace each question mark with the appropriate value. \n",
    "### Use python, pandas or numpy methods rather than hard coding the results\n",
    "\n",
    "n_train = 34799\n",
    "\n",
    "n_validation = 4410\n",
    "\n",
    "n_test = 12630\n",
    "\n",
    "image_shape = '32x32x3'\n",
    "\n",
    "n_classes = 43\n",
    "\n",
    "print(\"Number of training examples =\", n_train)\n",
    "print(\"Number of testing examples =\", n_test)\n",
    "print(\"Image data shape =\", image_shape)\n",
    "print(\"Number of classes =\", n_classes)"
   ]
  },
  {
   "cell_type": "markdown",
   "metadata": {},
   "source": [
    "### Include an exploratory visualization of the dataset"
   ]
  },
  {
   "cell_type": "markdown",
   "metadata": {},
   "source": [
    "Visualize the German Traffic Signs Dataset using the pickled file(s). This is open ended, suggestions include: plotting traffic sign images, plotting the count of each sign, etc. \n",
    "\n",
    "The [Matplotlib](http://matplotlib.org/) [examples](http://matplotlib.org/examples/index.html) and [gallery](http://matplotlib.org/gallery.html) pages are a great resource for doing visualizations in Python.\n",
    "\n",
    "**NOTE:** It's recommended you start with something simple first. If you wish to do more, come back to it after you've completed the rest of the sections. It can be interesting to look at the distribution of classes in the training, validation and test set. Is the distribution the same? Are there more examples of some classes than others?"
   ]
  },
  {
   "cell_type": "code",
   "execution_count": 4,
   "metadata": {},
   "outputs": [
    {
     "name": "stdout",
     "output_type": "stream",
     "text": [
      "13\n"
     ]
    },
    {
     "data": {
      "image/png": "[encoded data removed]",
      "text/plain": [
       "<matplotlib.figure.Figure at 0x1035e8fd0>"
      ]
     },
     "metadata": {},
     "output_type": "display_data"
    }
   ],
   "source": [
    "### Data exploration visualization code goes here.\n",
    "### Feel free to use as many code cells as needed.\n",
    "import matplotlib.pyplot as plt\n",
    "import random\n",
    "import numpy as np\n",
    "\n",
    "# Visualizations will be shown in the notebook.\n",
    "%matplotlib inline\n",
    "\n",
    "index = random.randint(0, len(X_train))\n",
    "image = X_train[index].squeeze()\n",
    "\n",
    "plt.figure(figsize=(1,1))\n",
    "plt.imshow(image)\n",
    "plt.savefig('./writeup_imgs/og_vis.png')\n",
    "print(y_train[index])"
   ]
  },
  {
   "cell_type": "code",
   "execution_count": 5,
   "metadata": {},
   "outputs": [],
   "source": [
    "# Reading sign categories csv file:\n",
    "import csv\n",
    "sign_dict = {}\n",
    "csvfile =  csv.DictReader(open('./signnames.csv', 'rt'))\n",
    "for row in csvfile:\n",
    "    sign_dict[int(row['ClassId'])] = row['SignName']"
   ]
  },
  {
   "cell_type": "code",
   "execution_count": 6,
   "metadata": {},
   "outputs": [
    {
     "data": {
      "image/png": "[encoded data removed]",
      "text/plain": [
       "<matplotlib.figure.Figure at 0x12135acc0>"
      ]
     },
     "metadata": {},
     "output_type": "display_data"
    }
   ],
   "source": [
    "#  Visualization categories frequency on the testing dataset.\n",
    "import operator\n",
    "\n",
    "freq_dict = {}\n",
    "for label in y_train:\n",
    "    if label in freq_dict.keys():\n",
    "        freq_dict[label] += 1\n",
    "    else:\n",
    "        freq_dict[label] = 1\n",
    "\n",
    "freq_dict = sorted(freq_dict.items(), key=operator.itemgetter(1), reverse=True)\n",
    "labels = []\n",
    "freqs = []\n",
    "for label, freq in freq_dict:\n",
    "    labels.append(sign_dict[label])\n",
    "    freqs.append(freq)\n",
    "\n",
    "plt.figure(figsize=(6,12))\n",
    "plt.title(\"Labels Frequency Distribution\")\n",
    "plt.xlabel(\"Frequency\")\n",
    "plt.ylabel(\"Labels\")\n",
    "plt.barh(labels, freqs, align='edge')\n",
    "\n",
    "plt.savefig('./writeup_imgs/vis_test.png')"
   ]
  },
  {
   "cell_type": "markdown",
   "metadata": {},
   "source": [
    "----\n",
    "\n",
    "## Step 2: Design and Test a Model Architecture\n",
    "\n",
    "Design and implement a deep learning model that learns to recognize traffic signs. Train and test your model on the [German Traffic Sign Dataset](http://benchmark.ini.rub.de/?section=gtsrb&subsection=dataset).\n",
    "\n",
    "The LeNet-5 implementation shown in the [classroom](https://classroom.udacity.com/nanodegrees/nd013/parts/fbf77062-5703-404e-b60c-95b78b2f3f9e/modules/6df7ae49-c61c-4bb2-a23e-6527e69209ec/lessons/601ae704-1035-4287-8b11-e2c2716217ad/concepts/d4aca031-508f-4e0b-b493-e7b706120f81) at the end of the CNN lesson is a solid starting point. You'll have to change the number of classes and possibly the preprocessing, but aside from that it's plug and play! \n",
    "\n",
    "With the LeNet-5 solution from the lecture, you should expect a validation set accuracy of about 0.89. To meet specifications, the validation set accuracy will need to be at least 0.93. It is possible to get an even higher accuracy, but 0.93 is the minimum for a successful project submission. \n",
    "\n",
    "There are various aspects to consider when thinking about this problem:\n",
    "\n",
    "- Neural network architecture (is the network over or underfitting?)\n",
    "- Play around preprocessing techniques (normalization, rgb to grayscale, etc)\n",
    "- Number of examples per label (some have more than others).\n",
    "- Generate fake data.\n",
    "\n",
    "Here is an example of a [published baseline model on this problem](http://yann.lecun.com/exdb/publis/pdf/sermanet-ijcnn-11.pdf). It's not required to be familiar with the approach used in the paper but, it's good practice to try to read papers like these."
   ]
  },
  {
   "cell_type": "markdown",
   "metadata": {},
   "source": [
    "### Pre-process the Data Set (normalization, grayscale, etc.)"
   ]
  },
  {
   "cell_type": "markdown",
   "metadata": {},
   "source": [
    "Minimally, the image data should be normalized so that the data has mean zero and equal variance. For image data, `(pixel - 128)/ 128` is a quick way to approximately normalize the data and can be used in this project. \n",
    "\n",
    "Other pre-processing steps are optional. You can try different techniques to see if it improves performance. \n",
    "\n",
    "Use the code cell (or multiple code cells, if necessary) to implement the first step of your project."
   ]
  },
  {
   "cell_type": "code",
   "execution_count": 7,
   "metadata": {},
   "outputs": [],
   "source": [
    "# Converting images to grey scale\n",
    "def rgb2gray(rgb):\n",
    "    return np.dot(rgb[...,:3], [0.299, 0.587, 0.114])\n",
    "\n",
    "def to_greyscale(img_arr):\n",
    "    '''\n",
    "    Converts an array of image to grescale\n",
    "    '''\n",
    "    img_grey = [rgb2gray(img) for img in img_arr]\n",
    "    plt.figure(figsize=(1,1))\n",
    "    plt.imshow(img_grey[0],cmap=\"gray\")\n",
    "    return [grey.reshape(32,32,1) for grey in img_grey]\n",
    "\n",
    "\n",
    "def preprocess(img_arr):\n",
    "    '''Normalize image as final step'''\n",
    "    return ( np.array(to_greyscale(img_arr)) - 128.0)/128.0"
   ]
  },
  {
   "cell_type": "code",
   "execution_count": 8,
   "metadata": {},
   "outputs": [
    {
     "data": {
      "image/png": "[encoded data removed]",
      "text/plain": [
       "<matplotlib.figure.Figure at 0x12131ad68>"
      ]
     },
     "metadata": {},
     "output_type": "display_data"
    },
    {
     "data": {
      "image/png": "[encoded data removed]",
      "text/plain": [
       "<matplotlib.figure.Figure at 0x1213afc50>"
      ]
     },
     "metadata": {},
     "output_type": "display_data"
    },
    {
     "data": {
      "image/png": "[encoded data removed]",
      "text/plain": [
       "<matplotlib.figure.Figure at 0x16dd98eb8>"
      ]
     },
     "metadata": {},
     "output_type": "display_data"
    }
   ],
   "source": [
    "### Preprocess \n",
    "# from sklearn.utils import shuffle\n",
    "# X_train, y_train =  shuffle(X_train, y_train)\n",
    "\n",
    "# Ray normalize dataset\n",
    "X_train_n, y_train_n = (X_train - 128.0)/128.0, y_train\n",
    "X_valid_n, y_valid_n = (X_valid - 128.0)/128.0, y_valid\n",
    "X_test_n, y_test_n = (X_test - 128.0)/128.0, y_test\n",
    "\n",
    "# Converting images to grescale\n",
    "X_train_grey = to_greyscale(X_train)\n",
    "X_valid_grey = to_greyscale(X_valid)\n",
    "X_test_grey = to_greyscale(X_test)\n",
    "\n",
    "\n",
    "# Normalizing grey scale imgaes\n",
    "X_train_grey_norm = (np.array(X_train_grey) - 128.0)/128.0\n",
    "X_valid_grey_norm = (np.array(X_valid_grey) - 128.0)/128.0\n",
    "X_test_grey_norm = (np.array(X_test_grey) - 128.0)/128.0"
   ]
  },
  {
   "cell_type": "code",
   "execution_count": 9,
   "metadata": {},
   "outputs": [
    {
     "name": "stdout",
     "output_type": "stream",
     "text": [
      "(32, 32)\n",
      "36\n",
      "36\n",
      "36\n"
     ]
    },
    {
     "data": {
      "image/png": "[encoded data removed]",
      "text/plain": [
       "<matplotlib.figure.Figure at 0x16dd8cc50>"
      ]
     },
     "metadata": {},
     "output_type": "display_data"
    },
    {
     "data": {
      "image/png": "[encoded data removed]",
      "text/plain": [
       "<matplotlib.figure.Figure at 0x19a049358>"
      ]
     },
     "metadata": {},
     "output_type": "display_data"
    },
    {
     "data": {
      "image/png": "[encoded data removed]",
      "text/plain": [
       "<matplotlib.figure.Figure at 0x19a072588>"
      ]
     },
     "metadata": {},
     "output_type": "display_data"
    }
   ],
   "source": [
    "# Creating enhanced image dataset with 90degree flipped images\n",
    "X_train_grey_norm_flipped = [np.rot90( img , 2) for img in  X_train_grey_norm[:10000]]\n",
    "\n",
    "X_grey_train_enhanced = np.concatenate((X_train_grey_norm, X_train_grey_norm_flipped))\n",
    "y_grey_train_enhanced = np.concatenate((y_train, y_train[:10000]))\n",
    "\n",
    "print(X_train_grey_norm_flipped[1200].reshape([32, 32]).shape)\n",
    "plt.figure(figsize=(1,1))\n",
    "plt.imshow(X_train_grey_norm[1200].reshape([32, 32]), cmap=\"gray\")\n",
    "plt.savefig('./writeup_imgs/grey_norm.png')\n",
    "print (y_train[:10000][1200])\n",
    "\n",
    "plt.figure(figsize=(1,1))\n",
    "plt.imshow(X_train_grey_norm_flipped[1200].reshape([32, 32]), cmap=\"gray\")\n",
    "plt.savefig('./writeup_imgs/grey_norm_flipped.png')\n",
    "print (y_train[1200])\n",
    "\n",
    "plt.figure(figsize=(1,1))\n",
    "plt.imshow(X_train[1200].squeeze(), cmap=\"gray\")\n",
    "plt.savefig('./writeup_imgs/og.png')\n",
    "\n",
    "print (y_train[1200])"
   ]
  },
  {
   "cell_type": "markdown",
   "metadata": {},
   "source": [
    "### Model Architecture"
   ]
  },
  {
   "cell_type": "code",
   "execution_count": 10,
   "metadata": {},
   "outputs": [],
   "source": [
    "### Define your architecture here.\n",
    "### Feel free to use as many code cells as needed.\n",
    "from tensorflow.contrib.layers import flatten\n",
    "import tensorflow as tf\n",
    "\n",
    "\n",
    "def LeSignalNet(x):    \n",
    "    # Arguments used for tf.truncated_normal, randomly defines variables for the weights and biases for each layer\n",
    "    mu = 0\n",
    "    sigma = 0.1\n",
    "    # Store layers weight & bias\n",
    "    weights = {\n",
    "        'wc1': createWeight([5, 5, 1, 6]),\n",
    "        'wc2': createWeight([5, 5, 6, 16]),\n",
    "        \n",
    "        'wi_1x_1': createWeight([1, 1, 16, 8]),\n",
    "        'wi_1x_2': createWeight([1, 1, 16, 8]),\n",
    "        'wi_1x_3': createWeight([1, 1, 16, 8]),\n",
    "        'wi_3x_1': createWeight([3, 3, 8, 8]),\n",
    "        'wi_5x_1': createWeight([5, 5, 8, 8]),\n",
    "        'wi_1x_4': createWeight([1, 1, 16, 8]),\n",
    "        \n",
    "        'wi_1x_f': createWeight([1, 1, 32, 16]),\n",
    "\n",
    "        'wd1': createWeight([1600, 400]),\n",
    "        'wd2': createWeight([400, 84]),\n",
    "        'out': createWeight([84, 43])}\n",
    "\n",
    "    biases = {\n",
    "        'bc1': createWeight([6]),\n",
    "        'bc2': createWeight([16]),\n",
    "        \n",
    "        'b1_1x_1': createWeight([8]),\n",
    "        'b1_1x_2': createWeight([8]),\n",
    "        'b1_1x_3': createWeight([8]),\n",
    "        'b1_3x_1': createWeight([8]),\n",
    "        'b1_5x_1': createWeight([8]),\n",
    "        'b1_1x_4': createWeight([8]),\n",
    "\n",
    "        'b1_1x_f': createWeight([16]),\n",
    "\n",
    "        'bd1': createWeight([400]),\n",
    "        'bd2': createWeight([84]),\n",
    "        'out': createWeight([43])\n",
    "    }\n",
    "    \n",
    "    # Layer 1: Convolutional. Input = 32x32x1. Output = 28x28x6.\n",
    "    l1 = conv2d(x, weights['wc1'], biases['bc1'], 1)\n",
    "    print('l1', l1.get_shape())\n",
    "    \n",
    "    # Pooling. Input = 28x28x6. Output = 14x14x6.\n",
    "    p1 = maxpool2d(l1, 2)\n",
    "    print('p1',p1.get_shape())\n",
    "    \n",
    "    # Layer 2: Convolutional. Output = 10x10x16.\n",
    "    p2 = conv2d(p1, weights['wc2'], biases['bc2'])\n",
    "    print('p2',p2.get_shape())\n",
    "\n",
    "    # Inception layer\n",
    "    conv1_1x1_1 = conv2d(p2, weights['wi_1x_1'], biases['b1_1x_1'], strides=1, padding_arg='SAME')\n",
    "    conv1_1x1_2 = tf.nn.relu(conv2d(p2, weights['wi_1x_2'], biases['b1_1x_2'], strides=1, padding_arg='SAME'))\n",
    "    conv1_1x1_3 = tf.nn.relu(conv2d(p2, weights['wi_1x_3'], biases['b1_1x_3'], strides=1, padding_arg='SAME'))\n",
    "    \n",
    "    print('conv1_1x1_1', conv1_1x1_1.get_shape())\n",
    "    print('conv1_1x1_2', conv1_1x1_2.get_shape())\n",
    "    print('conv1_1x1_3', conv1_1x1_2.get_shape())\n",
    "\n",
    "    conv1_3x3 = conv2d(conv1_1x1_2, weights['wi_3x_1'], biases['b1_3x_1'], strides=1,padding_arg='SAME')\n",
    "    conv1_5x5 = conv2d(conv1_1x1_3, weights['wi_5x_1'], biases['b1_5x_1'], strides=1,padding_arg='SAME')\n",
    "    maxpool_i1 = maxpool2d(p2, 3, 1, 'SAME')\n",
    "    conv1_1x1_4 = conv2d(maxpool_i1, weights['wi_1x_4'], biases['b1_1x_4'], strides=1,padding_arg='SAME')\n",
    "    \n",
    "    print('conv1_3x3', conv1_3x3.get_shape())\n",
    "    print('conv1_5x5', conv1_5x5.get_shape())\n",
    "    print('maxpool_i1', maxpool_i1.get_shape())\n",
    "    print('conv1_1x1_4', conv1_1x1_4.get_shape())\n",
    "\n",
    "    #concatenate all the feature maps and hit them with a relu\n",
    "    inception1 = tf.nn.relu(tf.concat(3,[conv1_1x1_1,conv1_3x3,conv1_5x5, conv1_1x1_4]))\n",
    "    inception1 = tf.nn.dropout(inception1, prob)\n",
    "    \n",
    "    print('inception_concat', inception1.get_shape())\n",
    "    \n",
    "    inception_reduced = conv2d(inception1, weights['wi_1x_f'], biases['b1_1x_f'])\n",
    "    inception_reduced = tf.nn.dropout(inception_reduced, prob)\n",
    "    \n",
    "    # Flatten. Input = 5x5x16. Output = 400.    \n",
    "    fc1 = flatten(inception_reduced)\n",
    "    \n",
    "    # Layer 3: Fully Connected. Input = 400. Output = 120.\n",
    "    fc1 = tf.add(tf.matmul(fc1, weights['wd1']), biases['bd1'])\n",
    "    # TODO: Activation.\n",
    "    fc1 = tf.nn.relu(fc1)\n",
    "    fc1 = tf.nn.dropout(fc1, prob)\n",
    "    \n",
    "    # Fully Connected. Input = 120. Output = 84.\n",
    "    fc2 = tf.add(tf.matmul(fc1, weights['wd2']), biases['bd2'])\n",
    "    fc2 = tf.nn.relu(fc2)\n",
    "\n",
    "    # Layer 5: Fully Connected. Input = 84. Output = 10.\n",
    "    logits = tf.add(tf.matmul(fc2, weights['out']), biases['out'])\n",
    "    \n",
    "#     logits = tf.nn.softmax(fc3)\n",
    "    return logits\n",
    "\n",
    "def conv2d(x, W, b, strides=1, padding_arg='VALID'):\n",
    "    x = tf.nn.conv2d(x, W, strides=[1, strides, strides, 1], padding=padding_arg)\n",
    "    x = tf.nn.bias_add(x, b)\n",
    "    return tf.nn.relu(x)\n",
    "\n",
    "\n",
    "def maxpool2d(x, k=2, s=2, padding_arg='SAME'):\n",
    "    return tf.nn.max_pool(\n",
    "        x,\n",
    "        ksize=[1, k, k, 1],\n",
    "        strides=[1, s, s, 1],\n",
    "        padding=padding_arg)\n",
    "\n",
    "def createWeight(shape_arg, mu = 0, sigma = 0.1):\n",
    "    return tf.Variable(tf.random_normal(shape=shape_arg,  mean = mu, stddev = sigma))\n"
   ]
  },
  {
   "cell_type": "markdown",
   "metadata": {},
   "source": [
    "### Train, Validate and Test the Model"
   ]
  },
  {
   "cell_type": "markdown",
   "metadata": {},
   "source": [
    "A validation set can be used to assess how well the model is performing. A low accuracy on the training and validation\n",
    "sets imply underfitting. A high accuracy on the training set but low accuracy on the validation set implies overfitting."
   ]
  },
  {
   "cell_type": "code",
   "execution_count": 11,
   "metadata": {},
   "outputs": [],
   "source": [
    "### Train your model here.\n",
    "### Calculate and report the accuracy on the training and validation set.\n",
    "### Once a final model architecture is selected, \n",
    "### the accuracy on the test set should be calculated and reported as well.\n",
    "### Feel free to use as many code cells as needed.\n",
    "\n",
    "x = tf.placeholder(tf.float32, (None, 32, 32, 1))\n",
    "y = tf.placeholder(tf.int32, (None))\n",
    "prob = tf.placeholder_with_default(1.0, shape=())\n",
    "one_hot_y = tf.one_hot(y, 43)"
   ]
  },
  {
   "cell_type": "code",
   "execution_count": 12,
   "metadata": {},
   "outputs": [
    {
     "name": "stdout",
     "output_type": "stream",
     "text": [
      "l1 (?, 28, 28, 6)\n",
      "p1 (?, 14, 14, 6)\n",
      "p2 (?, 10, 10, 16)\n",
      "conv1_1x1_1 (?, 10, 10, 8)\n",
      "conv1_1x1_2 (?, 10, 10, 8)\n",
      "conv1_1x1_3 (?, 10, 10, 8)\n",
      "conv1_3x3 (?, 10, 10, 8)\n",
      "conv1_5x5 (?, 10, 10, 8)\n",
      "maxpool_i1 (?, 10, 10, 16)\n",
      "conv1_1x1_4 (?, 10, 10, 8)\n",
      "inception_concat (?, 10, 10, 32)\n"
     ]
    }
   ],
   "source": [
    "rate = 0.001\n",
    "\n",
    "logits = LeSignalNet(x)\n",
    "cross_entropy = tf.nn.softmax_cross_entropy_with_logits(labels=one_hot_y, logits=logits)\n",
    "loss_operation = tf.reduce_mean(cross_entropy)\n",
    "optimizer = tf.train.AdamOptimizer(learning_rate = rate)\n",
    "training_operation = optimizer.minimize(loss_operation)"
   ]
  },
  {
   "cell_type": "code",
   "execution_count": 13,
   "metadata": {},
   "outputs": [],
   "source": [
    "#  Setting up evaluate function\n",
    "EPOCHS = 15\n",
    "BATCH_SIZE = 64\n",
    "\n",
    "correct_prediction = tf.equal(tf.argmax(logits, 1), tf.argmax(one_hot_y, 1))\n",
    "accuracy_operation = tf.reduce_mean(tf.cast(correct_prediction, tf.float32))\n",
    "saver = tf.train.Saver()\n",
    "\n",
    "def evaluate(X_data, y_data):\n",
    "    num_examples = len(X_data)\n",
    "    total_accuracy = 0\n",
    "    sess = tf.get_default_session()\n",
    "    for offset in range(0, num_examples, BATCH_SIZE):\n",
    "        batch_x, batch_y = X_data[offset:offset+BATCH_SIZE], y_data[offset:offset+BATCH_SIZE]\n",
    "        accuracy = sess.run(accuracy_operation, feed_dict={x: batch_x, y: batch_y})\n",
    "        total_accuracy += (accuracy * len(batch_x))\n",
    "    return total_accuracy / num_examples"
   ]
  },
  {
   "cell_type": "code",
   "execution_count": 14,
   "metadata": {},
   "outputs": [],
   "source": [
    "last_validation_accuracy = 0.0"
   ]
  },
  {
   "cell_type": "code",
   "execution_count": 68,
   "metadata": {},
   "outputs": [
    {
     "name": "stdout",
     "output_type": "stream",
     "text": [
      "Training...\n",
      "\n",
      "EPOCH 1 ...\n",
      "Validation Accuracy = 0.726\n",
      "\n",
      "EPOCH 2 ...\n",
      "Validation Accuracy = 0.847\n",
      "\n",
      "EPOCH 3 ...\n",
      "Validation Accuracy = 0.906\n",
      "\n",
      "EPOCH 4 ...\n",
      "Validation Accuracy = 0.914\n",
      "\n",
      "EPOCH 5 ...\n",
      "Validation Accuracy = 0.934\n",
      "\n",
      "Model saved\n",
      "EPOCH 6 ...\n",
      "Validation Accuracy = 0.938\n",
      "\n",
      "Model saved\n",
      "EPOCH 7 ...\n",
      "Validation Accuracy = 0.934\n",
      "\n",
      "EPOCH 8 ...\n",
      "Validation Accuracy = 0.941\n",
      "\n",
      "Model saved\n",
      "EPOCH 9 ...\n",
      "Validation Accuracy = 0.953\n",
      "\n",
      "Model saved\n",
      "EPOCH 10 ...\n",
      "Validation Accuracy = 0.954\n",
      "\n",
      "Model saved\n",
      "EPOCH 11 ...\n",
      "Validation Accuracy = 0.955\n",
      "\n",
      "Model saved\n",
      "EPOCH 12 ...\n",
      "Validation Accuracy = 0.961\n",
      "\n",
      "Model saved\n",
      "EPOCH 13 ...\n",
      "Validation Accuracy = 0.963\n",
      "\n",
      "Model saved\n",
      "EPOCH 14 ...\n",
      "Validation Accuracy = 0.961\n",
      "\n",
      "EPOCH 15 ...\n",
      "Validation Accuracy = 0.965\n",
      "\n",
      "Model saved\n"
     ]
    }
   ],
   "source": [
    "# Training the model\n",
    "from sklearn.utils import shuffle\n",
    "\n",
    "EPOCHS = 15\n",
    "BATCH_SIZE = 64\n",
    "\n",
    "with tf.Session() as sess:\n",
    "    sess.run(tf.global_variables_initializer())\n",
    "    num_examples = len(X_train_grey_norm)\n",
    "    \n",
    "    print(\"Training...\")\n",
    "    print()\n",
    "    for i in range(EPOCHS):\n",
    "        X_train_grey_norm, y_train = shuffle(X_train_grey_norm, y_train)\n",
    "        for offset in range(0, num_examples, BATCH_SIZE):\n",
    "            end = offset + BATCH_SIZE\n",
    "            batch_x, batch_y = X_train_grey_norm[offset:end], y_train[offset:end]\n",
    "            sess.run(training_operation, feed_dict={x: batch_x, y: batch_y, prob: 0.5})\n",
    "            \n",
    "        validation_accuracy = evaluate(X_valid_grey_norm, y_valid)\n",
    "        print(\"EPOCH {} ...\".format(i+1))\n",
    "        print(\"Validation Accuracy = {:.3f}\".format(validation_accuracy))\n",
    "        print()\n",
    "        \n",
    "        if((validation_accuracy > last_validation_accuracy) and (validation_accuracy > 0.93)):\n",
    "            saver.save(sess, './final_model/traffic_model_greyscale')\n",
    "            print(\"Model saved\")\n",
    "        \n",
    "        last_validation_accuracy = validation_accuracy\n",
    "    writer = tf.summary.FileWriter('./logs/sign', sess.graph)"
   ]
  },
  {
   "cell_type": "code",
   "execution_count": 15,
   "metadata": {},
   "outputs": [
    {
     "name": "stdout",
     "output_type": "stream",
     "text": [
      "Validation Accuracy = 0.967\n",
      "Train Accuracy = 0.995\n",
      "Test Accuracy = 0.938\n"
     ]
    }
   ],
   "source": [
    "# Loading model to predict accuracy on train, test and validation datasets\n",
    "with tf.Session() as sess:\n",
    "#     path = tf.train.get_checkpoint_state('./traffic_model_enhanced')\n",
    "    sess.run(tf.global_variables_initializer())\n",
    "    saver.restore(sess, './final_model/traffic_model_greyscale')\n",
    "\n",
    "    validation_accuracy = evaluate(X_valid_grey_norm, y_valid)\n",
    "    print(\"Validation Accuracy = {:.3f}\".format(validation_accuracy))\n",
    "    \n",
    "    train_accuracy = evaluate(X_train_grey_norm, y_train)\n",
    "    print(\"Train Accuracy = {:.3f}\".format(train_accuracy))\n",
    "    \n",
    "    test_accuracy = evaluate(X_test_grey_norm, y_test)\n",
    "    print(\"Test Accuracy = {:.3f}\".format(test_accuracy))\n",
    "    "
   ]
  },
  {
   "cell_type": "markdown",
   "metadata": {},
   "source": [
    "---\n",
    "\n",
    "## Step 3: Test a Model on New Images\n",
    "\n",
    "To give yourself more insight into how your model is working, download at least five pictures of German traffic signs from the web and use your model to predict the traffic sign type.\n",
    "\n",
    "You may find `signnames.csv` useful as it contains mappings from the class id (integer) to the actual sign name."
   ]
  },
  {
   "cell_type": "markdown",
   "metadata": {},
   "source": [
    "### Load and Output the Images"
   ]
  },
  {
   "cell_type": "code",
   "execution_count": 16,
   "metadata": {},
   "outputs": [
    {
     "data": {
      "image/png": "[encoded data removed]",
      "text/plain": [
       "<matplotlib.figure.Figure at 0x1a4c97ef0>"
      ]
     },
     "metadata": {},
     "output_type": "display_data"
    }
   ],
   "source": [
    "from matplotlib.pyplot import imread\n",
    "\n",
    "from os import listdir\n",
    "from os.path import isfile, join\n",
    "\n",
    "file_path = './new_images'\n",
    "image_file_path = [join(file_path, f) for f in listdir(file_path) if isfile(join(file_path, f)) and not 'hq' in f and not '.D' in f] \n",
    "\n",
    "images = [imread(img_path) for img_path in image_file_path]\n",
    "processed_images = preprocess(images)"
   ]
  },
  {
   "cell_type": "code",
   "execution_count": 17,
   "metadata": {},
   "outputs": [
    {
     "data": {
      "text/plain": [
       "['./new_images/stop.jpg',\n",
       " './new_images/100.jpg',\n",
       " './new_images/construction.jpg',\n",
       " './new_images/right.jpg',\n",
       " './new_images/yield_to_cross.jpg']"
      ]
     },
     "execution_count": 17,
     "metadata": {},
     "output_type": "execute_result"
    }
   ],
   "source": [
    "image_file_path"
   ]
  },
  {
   "cell_type": "markdown",
   "metadata": {},
   "source": [
    "### Predict the Sign Type for Each Image"
   ]
  },
  {
   "cell_type": "code",
   "execution_count": 18,
   "metadata": {},
   "outputs": [
    {
     "data": {
      "image/png": "[encoded data removed]",
      "text/plain": [
       "<matplotlib.figure.Figure at 0x1a51197f0>"
      ]
     },
     "metadata": {},
     "output_type": "display_data"
    },
    {
     "data": {
      "image/png": "[encoded data removed]",
      "text/plain": [
       "<matplotlib.figure.Figure at 0x1189ee2e8>"
      ]
     },
     "metadata": {},
     "output_type": "display_data"
    },
    {
     "data": {
      "image/png": "[encoded data removed]",
      "text/plain": [
       "<matplotlib.figure.Figure at 0x118a10d30>"
      ]
     },
     "metadata": {},
     "output_type": "display_data"
    }
   ],
   "source": [
    "instance = 0\n",
    "for i, img in enumerate(y_valid):\n",
    "    if img == 27:\n",
    "        plt.figure(figsize=(1,1))\n",
    "        plt.imshow(X_valid[i].squeeze(),cmap=\"gray\")\n",
    "        instance +=1\n",
    "    if instance > 2:\n",
    "        break"
   ]
  },
  {
   "cell_type": "code",
   "execution_count": 19,
   "metadata": {},
   "outputs": [
    {
     "data": {
      "image/png": "[encoded data removed]",
      "text/plain": [
       "<matplotlib.figure.Figure at 0x118a1fef0>"
      ]
     },
     "metadata": {},
     "output_type": "display_data"
    },
    {
     "data": {
      "image/png": "[encoded data removed]",
      "text/plain": [
       "<matplotlib.figure.Figure at 0x1a4fe1b70>"
      ]
     },
     "metadata": {},
     "output_type": "display_data"
    },
    {
     "data": {
      "image/png": "[encoded data removed]",
      "text/plain": [
       "<matplotlib.figure.Figure at 0x1189fccc0>"
      ]
     },
     "metadata": {},
     "output_type": "display_data"
    },
    {
     "data": {
      "image/png": "[encoded data removed]",
      "text/plain": [
       "<matplotlib.figure.Figure at 0x11859d860>"
      ]
     },
     "metadata": {},
     "output_type": "display_data"
    },
    {
     "data": {
      "image/png": "[encoded data removed]",
      "text/plain": [
       "<matplotlib.figure.Figure at 0x1185c55f8>"
      ]
     },
     "metadata": {},
     "output_type": "display_data"
    }
   ],
   "source": [
    "### Run the predictions here and use the model to output the prediction for each image.\n",
    "# priting images get the correct label\n",
    "for img in processed_images:\n",
    "    plt.figure(figsize=(1,1))\n",
    "    plt.imshow(img.reshape(32,32),cmap=\"gray\")\n",
    "\n",
    "labels_y = [14, 7, 25, 33, 13]"
   ]
  },
  {
   "cell_type": "code",
   "execution_count": 20,
   "metadata": {},
   "outputs": [
    {
     "name": "stdout",
     "output_type": "stream",
     "text": [
      "[14  2 22 33 13]\n"
     ]
    }
   ],
   "source": [
    "correct_prediction = tf.argmax(logits, 1)\n",
    "\n",
    "def evaluate_output(X_data, y_data, output_node):\n",
    "    num_examples = len(X_data)\n",
    "    total_accuracy = 0\n",
    "    sess = tf.get_default_session()\n",
    "    for offset in range(0, num_examples, BATCH_SIZE):\n",
    "        batch_x, batch_y = X_data[offset:offset+BATCH_SIZE], y_data[offset:offset+BATCH_SIZE]\n",
    "        output_node = sess.run(output_node, feed_dict={x: batch_x, y: batch_y})\n",
    "    return output_node\n",
    "\n",
    "new_image_prediction = []\n",
    "with tf.Session() as sess:\n",
    "    sess.run(tf.global_variables_initializer())\n",
    "    saver.restore(sess, './final_model/traffic_model_greyscale')\n",
    "    new_image_prediction = evaluate_output(processed_images, labels_y, correct_prediction)\n",
    "    print (new_image_prediction)"
   ]
  },
  {
   "cell_type": "markdown",
   "metadata": {},
   "source": [
    "### Analyze Performance"
   ]
  },
  {
   "cell_type": "code",
   "execution_count": 21,
   "metadata": {},
   "outputs": [
    {
     "name": "stdout",
     "output_type": "stream",
     "text": [
      "New Image Accuracy = 0.600\n"
     ]
    }
   ],
   "source": [
    "### Calculate the accuracy for these 5 new images. \n",
    "### For example, if the model predicted 1 out of 5 signs correctly, it's 20% accurate on these new images.\n",
    "prediction_accuracy = np.mean([1 if pred == l else 0 for pred, l in zip(new_image_prediction,labels_y)])\n",
    "print(\"New Image Accuracy = {:.3f}\".format(prediction_accuracy))"
   ]
  },
  {
   "cell_type": "markdown",
   "metadata": {},
   "source": [
    "### Output Top 5 Softmax Probabilities For Each Image Found on the Web"
   ]
  },
  {
   "cell_type": "markdown",
   "metadata": {},
   "source": [
    "For each of the new images, print out the model's softmax probabilities to show the **certainty** of the model's predictions (limit the output to the top 5 probabilities for each image). [`tf.nn.top_k`](https://www.tensorflow.org/versions/r0.12/api_docs/python/nn.html#top_k) could prove helpful here. \n",
    "\n",
    "The example below demonstrates how tf.nn.top_k can be used to find the top k predictions for each image.\n",
    "\n",
    "`tf.nn.top_k` will return the values and indices (class ids) of the top k predictions. So if k=3, for each sign, it'll return the 3 largest probabilities (out of a possible 43) and the correspoding class ids.\n",
    "\n",
    "Take this numpy array as an example. The values in the array represent predictions. The array contains softmax probabilities for five candidate images with six possible classes. `tf.nn.top_k` is used to choose the three classes with the highest probability:\n",
    "\n",
    "```\n",
    "# (5, 6) array\n",
    "a = np.array([[ 0.24879643,  0.07032244,  0.12641572,  0.34763842,  0.07893497,\n",
    "         0.12789202],\n",
    "       [ 0.28086119,  0.27569815,  0.08594638,  0.0178669 ,  0.18063401,\n",
    "         0.15899337],\n",
    "       [ 0.26076848,  0.23664738,  0.08020603,  0.07001922,  0.1134371 ,\n",
    "         0.23892179],\n",
    "       [ 0.11943333,  0.29198961,  0.02605103,  0.26234032,  0.1351348 ,\n",
    "         0.16505091],\n",
    "       [ 0.09561176,  0.34396535,  0.0643941 ,  0.16240774,  0.24206137,\n",
    "         0.09155967]])\n",
    "```\n",
    "\n",
    "Running it through `sess.run(tf.nn.top_k(tf.constant(a), k=3))` produces:\n",
    "\n",
    "```\n",
    "TopKV2(values=array([[ 0.34763842,  0.24879643,  0.12789202],\n",
    "       [ 0.28086119,  0.27569815,  0.18063401],\n",
    "       [ 0.26076848,  0.23892179,  0.23664738],\n",
    "       [ 0.29198961,  0.26234032,  0.16505091],\n",
    "       [ 0.34396535,  0.24206137,  0.16240774]]), indices=array([[3, 0, 5],\n",
    "       [0, 1, 4],\n",
    "       [0, 5, 1],\n",
    "       [1, 3, 5],\n",
    "       [1, 4, 3]], dtype=int32))\n",
    "```\n",
    "\n",
    "Looking just at the first row we get `[ 0.34763842,  0.24879643,  0.12789202]`, you can confirm these are the 3 largest probabilities in `a`. You'll also notice `[3, 0, 5]` are the corresponding indices."
   ]
  },
  {
   "cell_type": "code",
   "execution_count": 45,
   "metadata": {},
   "outputs": [
    {
     "name": "stdout",
     "output_type": "stream",
     "text": [
      "TopKV2(values=array([[ 9.566318 ,  6.037872 ,  4.623844 ,  3.6917262,  3.5529482],\n",
      "       [ 5.3924904,  3.865991 ,  3.3752825,  3.2044141,  2.1945653],\n",
      "       [10.099511 ,  8.735385 ,  4.116754 ,  2.4649973,  1.3937008],\n",
      "       [ 9.860082 ,  3.1401532,  2.1562107,  2.1521256,  1.3626816],\n",
      "       [10.905859 ,  3.127539 ,  2.356236 ,  2.3257506,  2.213784 ]],\n",
      "      dtype=float32), indices=array([[14, 12, 33,  5, 17],\n",
      "       [ 2, 10, 40, 37,  7],\n",
      "       [22, 25, 29, 26, 24],\n",
      "       [33, 13, 21, 39,  2],\n",
      "       [13,  2, 15,  1, 12]], dtype=int32))\n",
      "Correct Label: Stop, 14\n",
      "| Probability         \t|     Prediction\t\t\t\t|\n",
      "|:---------------------:|:---------------------------------------------:|\n",
      "| 9.57 | Stop |\n",
      "| 6.04 | Priority road |\n",
      "| 4.62 | Turn right ahead |\n",
      "| 3.69 | Speed limit (80km/h) |\n",
      "| 3.55 | No entry |\n",
      "\n",
      "Correct Label: Speed limit (100km/h), 7\n",
      "| Probability         \t|     Prediction\t\t\t\t|\n",
      "|:---------------------:|:---------------------------------------------:|\n",
      "| 5.39 | Speed limit (50km/h) |\n",
      "| 3.87 | No passing for vehicles over 3.5 metric tons |\n",
      "| 3.38 | Roundabout mandatory |\n",
      "| 3.20 | Go straight or left |\n",
      "| 2.19 | Speed limit (100km/h) |\n",
      "\n",
      "Correct Label: Road work, 25\n",
      "| Probability         \t|     Prediction\t\t\t\t|\n",
      "|:---------------------:|:---------------------------------------------:|\n",
      "| 10.10 | Bumpy road |\n",
      "| 8.74 | Road work |\n",
      "| 4.12 | Bicycles crossing |\n",
      "| 2.46 | Traffic signals |\n",
      "| 1.39 | Road narrows on the right |\n",
      "\n",
      "Correct Label: Turn right ahead, 33\n",
      "| Probability         \t|     Prediction\t\t\t\t|\n",
      "|:---------------------:|:---------------------------------------------:|\n",
      "| 9.86 | Turn right ahead |\n",
      "| 3.14 | Yield |\n",
      "| 2.16 | Double curve |\n",
      "| 2.15 | Keep left |\n",
      "| 1.36 | Speed limit (50km/h) |\n",
      "\n",
      "Correct Label: Yield, 13\n",
      "| Probability         \t|     Prediction\t\t\t\t|\n",
      "|:---------------------:|:---------------------------------------------:|\n",
      "| 10.91 | Yield |\n",
      "| 3.13 | Speed limit (50km/h) |\n",
      "| 2.36 | No vehicles |\n",
      "| 2.33 | Speed limit (30km/h) |\n",
      "| 2.21 | Priority road |\n",
      "\n"
     ]
    }
   ],
   "source": [
    "### Print out the top five softmax probabilities for the predictions on the German traffic sign images found on the web. \n",
    "### Feel free to use as many code cells as needed.\n",
    "top_5 = tf.nn.top_k(logits, k=5)\n",
    "\n",
    "with tf.Session() as sess:\n",
    "    sess.run(tf.global_variables_initializer())\n",
    "    saver.restore(sess, './final_model/traffic_model_greyscale')\n",
    "    top_5_predictions = evaluate_output(processed_images, labels_y, top_5)\n",
    "    print(top_5_predictions)\n",
    "#     Formatting prediction\n",
    "    for prediction, prediction_prob, label in zip(top_5_predictions[0], top_5_predictions[1], labels_y):\n",
    "        nn_predicitons = zip(prediction_prob, prediction)\n",
    "        print(\"Correct Label: %s, %d\" % (sign_dict[label], label))\n",
    "        print(\"| Probability         \t|     Prediction\t\t\t\t|\")\n",
    "        print(\"|:---------------------:|:---------------------------------------------:|\")\n",
    "        for label, prob in nn_predicitons:\n",
    "            print(\"| %.2f | %s |\" %(prob, sign_dict[label]))\n",
    "        \n",
    "        print()\n"
   ]
  },
  {
   "cell_type": "code",
   "execution_count": 15,
   "metadata": {},
   "outputs": [
    {
     "data": {
      "text/plain": [
       "34799"
      ]
     },
     "execution_count": 15,
     "metadata": {},
     "output_type": "execute_result"
    }
   ],
   "source": [
    "len(X_train_grey_norm)"
   ]
  },
  {
   "cell_type": "markdown",
   "metadata": {},
   "source": [
    "### Project Writeup\n",
    "\n",
    "Once you have completed the code implementation, document your results in a project writeup using this [template](https://github.com/udacity/CarND-Traffic-Sign-Classifier-Project/blob/master/writeup_template.md) as a guide. The writeup can be in a markdown or pdf file. "
   ]
  },
  {
   "cell_type": "markdown",
   "metadata": {},
   "source": [
    "> **Note**: Once you have completed all of the code implementations and successfully answered each question above, you may finalize your work by exporting the iPython Notebook as an HTML document. You can do this by using the menu above and navigating to  \\n\",\n",
    "    \"**File -> Download as -> HTML (.html)**. Include the finished document along with this notebook as your submission."
   ]
  },
  {
   "cell_type": "markdown",
   "metadata": {},
   "source": [
    "---\n",
    "\n",
    "## Step 4 (Optional): Visualize the Neural Network's State with Test Images\n",
    "\n",
    " This Section is not required to complete but acts as an additional excersise for understaning the output of a neural network's weights. While neural networks can be a great learning device they are often referred to as a black box. We can understand what the weights of a neural network look like better by plotting their feature maps. After successfully training your neural network you can see what it's feature maps look like by plotting the output of the network's weight layers in response to a test stimuli image. From these plotted feature maps, it's possible to see what characteristics of an image the network finds interesting. For a sign, maybe the inner network feature maps react with high activation to the sign's boundary outline or to the contrast in the sign's painted symbol.\n",
    "\n",
    " Provided for you below is the function code that allows you to get the visualization output of any tensorflow weight layer you want. The inputs to the function should be a stimuli image, one used during training or a new one you provided, and then the tensorflow variable name that represents the layer's state during the training process, for instance if you wanted to see what the [LeNet lab's](https://classroom.udacity.com/nanodegrees/nd013/parts/fbf77062-5703-404e-b60c-95b78b2f3f9e/modules/6df7ae49-c61c-4bb2-a23e-6527e69209ec/lessons/601ae704-1035-4287-8b11-e2c2716217ad/concepts/d4aca031-508f-4e0b-b493-e7b706120f81) feature maps looked like for it's second convolutional layer you could enter conv2 as the tf_activation variable.\n",
    "\n",
    "For an example of what feature map outputs look like, check out NVIDIA's results in their paper [End-to-End Deep Learning for Self-Driving Cars](https://devblogs.nvidia.com/parallelforall/deep-learning-self-driving-cars/) in the section Visualization of internal CNN State. NVIDIA was able to show that their network's inner weights had high activations to road boundary lines by comparing feature maps from an image with a clear path to one without. Try experimenting with a similar test to show that your trained network's weights are looking for interesting features, whether it's looking at differences in feature maps from images with or without a sign, or even what feature maps look like in a trained network vs a completely untrained one on the same sign image.\n",
    "\n",
    "<figure>\n",
    " <img src=\"visualize_cnn.png\" width=\"380\" alt=\"Combined Image\" />\n",
    " <figcaption>\n",
    " <p></p> \n",
    " <p style=\"text-align: center;\"> Your output should look something like this (above)</p> \n",
    " </figcaption>\n",
    "</figure>\n",
    " <p></p> \n"
   ]
  },
  {
   "cell_type": "code",
   "execution_count": null,
   "metadata": {
    "collapsed": true
   },
   "outputs": [],
   "source": [
    "### Visualize your network's feature maps here.\n",
    "### Feel free to use as many code cells as needed.\n",
    "\n",
    "# image_input: the test image being fed into the network to produce the feature maps\n",
    "# tf_activation: should be a tf variable name used during your training procedure that represents the calculated state of a specific weight layer\n",
    "# activation_min/max: can be used to view the activation contrast in more detail, by default matplot sets min and max to the actual min and max values of the output\n",
    "# plt_num: used to plot out multiple different weight feature map sets on the same block, just extend the plt number for each new feature map entry\n",
    "\n",
    "def outputFeatureMap(image_input, tf_activation, activation_min=-1, activation_max=-1 ,plt_num=1):\n",
    "    # Here make sure to preprocess your image_input in a way your network expects\n",
    "    # with size, normalization, ect if needed\n",
    "    # image_input =\n",
    "    # Note: x should be the same name as your network's tensorflow data placeholder variable\n",
    "    # If you get an error tf_activation is not defined it may be having trouble accessing the variable from inside a function\n",
    "    activation = tf_activation.eval(session=sess,feed_dict={x : image_input})\n",
    "    featuremaps = activation.shape[3]\n",
    "    plt.figure(plt_num, figsize=(15,15))\n",
    "    for featuremap in range(featuremaps):\n",
    "        plt.subplot(6,8, featuremap+1) # sets the number of feature maps to show on each row and column\n",
    "        plt.title('FeatureMap ' + str(featuremap)) # displays the feature map number\n",
    "        if activation_min != -1 & activation_max != -1:\n",
    "            plt.imshow(activation[0,:,:, featuremap], interpolation=\"nearest\", vmin =activation_min, vmax=activation_max, cmap=\"gray\")\n",
    "        elif activation_max != -1:\n",
    "            plt.imshow(activation[0,:,:, featuremap], interpolation=\"nearest\", vmax=activation_max, cmap=\"gray\")\n",
    "        elif activation_min !=-1:\n",
    "            plt.imshow(activation[0,:,:, featuremap], interpolation=\"nearest\", vmin=activation_min, cmap=\"gray\")\n",
    "        else:\n",
    "            plt.imshow(activation[0,:,:, featuremap], interpolation=\"nearest\", cmap=\"gray\")"
   ]
  }
 ],
 "metadata": {
  "anaconda-cloud": {},
  "kernelspec": {
   "display_name": "Python 3",
   "language": "python",
   "name": "python3"
  },
  "language_info": {
   "codemirror_mode": {
    "name": "ipython",
    "version": 3
   },
   "file_extension": ".py",
   "mimetype": "text/x-python",
   "name": "python",
   "nbconvert_exporter": "python",
   "pygments_lexer": "ipython3",
   "version": "3.5.2"
  },
  "widgets": {
   "state": {},
   "version": "1.1.2"
  }
 },
 "nbformat": 4,
 "nbformat_minor": 1
}
